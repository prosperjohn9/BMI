{
  "nbformat": 4,
  "nbformat_minor": 0,
  "metadata": {
    "colab": {
      "provenance": [],
      "authorship_tag": "ABX9TyN+zsipRaf+B/1TxLJWkuwP",
      "include_colab_link": true
    },
    "kernelspec": {
      "name": "python3",
      "display_name": "Python 3"
    },
    "language_info": {
      "name": "python"
    }
  },
  "cells": [
    {
      "cell_type": "markdown",
      "metadata": {
        "id": "view-in-github",
        "colab_type": "text"
      },
      "source": [
        "<a href=\"https://colab.research.google.com/github/prosperjohn9/BMI/blob/main/BMI.ipynb\" target=\"_parent\"><img src=\"https://colab.research.google.com/assets/colab-badge.svg\" alt=\"Open In Colab\"/></a>"
      ]
    },
    {
      "cell_type": "markdown",
      "source": [
        "The body mass index (BMI) is a value derived from the mass (weight) and height of an individual. It is a measure of body fat based on height and weight that applies to adult men and women. BMI is defined as the body mass divided by the square of the body height, and is universally expressed in units of kg/m2, resulting from mass in kilograms and height in metres.\n",
        "\n",
        "\n",
        "Write a program that reads ***name***, ***height*** and ***weight*** information of a person respectively, prints the BMI score and health status as \"*underweight*\", \"*healthy*\", \"*overweight*\", or \"*obese*\" for that person.\n",
        "\n",
        "Additionally, your program should operate for multiple users by not terminating until \"exit\" (case-insensitive like \"EXIT\" or \"ExIt\") is entered as ***name***.\n",
        "\n",
        "Health Status | BMI Range\n",
        "-- | --\n",
        "underweight |BMI < 18.5\n",
        "healthy | 18.5 <= BMI < 25\n",
        "overweight | 25 <= BMI < 30\n",
        "obese| 30 <= BMI\n"
      ],
      "metadata": {
        "id": "hoUTyMiddFSw"
      }
    },
    {
      "cell_type": "code",
      "execution_count": null,
      "metadata": {
        "colab": {
          "base_uri": "https://localhost:8080/"
        },
        "id": "97fAJb02dDWm",
        "outputId": "1e37f1b3-8224-44b7-ab63-4ad7d09eb9d2"
      },
      "outputs": [
        {
          "name": "stdout",
          "output_type": "stream",
          "text": [
            "Please enter your name: Prosper\n",
            "Prosper, please enter your height (in m): 1.78\n",
            "Prosper, please enter your weight (in kg): 95\n",
            "Prosper, your BMI is 29.98.\n",
            "Prosper, you are overweight.\n",
            "Please enter your name (enter \"exit\" to quit program): exit\n"
          ]
        }
      ],
      "source": [
        "name = input(\"Please enter your name: \")\n",
        "\n",
        "while name.lower() != \"exit\":\n",
        "  height = float(input(name + \", please enter your height (in m): \"))\n",
        "  weight = float(input(name + \", please enter your weight (in kg): \"))\n",
        "  bmi = weight / (height ** 2)\n",
        "  print(name, \", your BMI is \", format(bmi, \".2f\"), \".\", sep = \"\")\n",
        "\n",
        "  if bmi < 18.5:\n",
        "    category = \"underweight\"\n",
        "  elif bmi < 25:\n",
        "    category = \"healthy\"\n",
        "  elif bmi < 30:\n",
        "    category = \"overweight\"\n",
        "  else:\n",
        "    category = \"obese\"\n",
        "\n",
        "  print(name, \", you are \", category, \".\", sep = \"\")\n",
        "\n",
        "  name = input('Please enter your name (enter \"exit\" to quit program): ')"
      ]
    }
  ]
}